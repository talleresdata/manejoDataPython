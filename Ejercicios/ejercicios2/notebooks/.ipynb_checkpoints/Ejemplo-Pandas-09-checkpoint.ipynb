{
 "cells": [
  {
   "cell_type": "code",
   "execution_count": 2,
   "metadata": {},
   "outputs": [],
   "source": [
    "import pandas as pd\n",
    "import matplotlib\n",
    "import numpy as np\n",
    "import matplotlib.pyplot as plt\n",
    "%matplotlib inline  \n"
   ]
  },
  {
   "cell_type": "code",
   "execution_count": 4,
   "metadata": {},
   "outputs": [
    {
     "name": "stdout",
     "output_type": "stream",
     "text": [
      "\u001b[0m\u001b[01;34mdata\u001b[0m/                    Ejemplo-Pandas-05.ipynb  Ejemplo-Pandas-08.ipynb\r\n",
      "Ejemplo-Pandas-03.ipynb  Ejemplo-Pandas-06.ipynb  \u001b[01;32mEjemplo-Pandas-09.ipynb\u001b[0m*\r\n",
      "Ejemplo-Pandas-04.ipynb  Ejemplo-Pandas-07.ipynb  \u001b[01;34mnotebook-py3\u001b[0m/\r\n"
     ]
    }
   ],
   "source": [
    "ls"
   ]
  },
  {
   "cell_type": "code",
   "execution_count": 5,
   "metadata": {},
   "outputs": [],
   "source": [
    "archivo = open('data/log-course.txt', 'r')\n",
    "\n",
    "lineas = archivo.readlines()\n"
   ]
  },
  {
   "cell_type": "code",
   "execution_count": 6,
   "metadata": {},
   "outputs": [],
   "source": [
    "cadena = lineas[0]"
   ]
  },
  {
   "cell_type": "code",
   "execution_count": 7,
   "metadata": {},
   "outputs": [
    {
     "name": "stdout",
     "output_type": "stream",
     "text": [
      "{\"username\": \"\", \"event_type\": \"/courses/course-v1:UTPL+SARH5+2019_1/about\", \"ip\": \"77.111.247.82\", \"agent\": \"Mozilla/5.0 (Windows NT 6.1; WOW64) AppleWebKit/537.36 (KHTML, like Gecko) Chrome/71.0.3578.98 Safari/537.36 OPR/58.0.3135.127\", \"host\": \"opencampus.utpl.edu.ec\", \"referer\": \"\", \"accept_language\": \"es-ES,es;q=0.9\", \"event\": \"{\\\"POST\\\": {}, \\\"GET\\\": {}}\", \"event_source\": \"server\", \"context\": {\"course_user_tags\": {}, \"user_id\": \"\", \"org_id\": \"UTPL\", \"course_id\": \"course-v1:UTPL+SARH5+2019_1\", \"path\": \"/courses/course-v1:UTPL+SARH5+2019_1/about\"}, \"time\": \"2019-04-01T04:28:26.189835+00:00\", \"page\": null}\n",
      "\n"
     ]
    }
   ],
   "source": [
    "print cadena"
   ]
  },
  {
   "cell_type": "code",
   "execution_count": 8,
   "metadata": {},
   "outputs": [],
   "source": [
    "lista = []\n",
    "import json\n",
    "for l in lineas:\n",
    "    try:\n",
    "        cadena1 = json.loads(l)\n",
    "        diccionario_context = cadena1['context']\n",
    "        for d in diccionario_context.keys():\n",
    "            cadena1[\"context_%s\" % d] = diccionario_context[d]\n",
    "            # print cadena1['event']\n",
    "        lista.append(cadena1)\n",
    "    except:\n",
    "        print l"
   ]
  },
  {
   "cell_type": "code",
   "execution_count": 9,
   "metadata": {},
   "outputs": [],
   "source": [
    "data = pd.DataFrame(lista)"
   ]
  },
  {
   "cell_type": "code",
   "execution_count": 10,
   "metadata": {},
   "outputs": [
    {
     "data": {
      "text/plain": [
       "(51262, 20)"
      ]
     },
     "execution_count": 10,
     "metadata": {},
     "output_type": "execute_result"
    }
   ],
   "source": [
    "data.shape"
   ]
  },
  {
   "cell_type": "code",
   "execution_count": null,
   "metadata": {},
   "outputs": [],
   "source": [
    "data.keys()"
   ]
  },
  {
   "cell_type": "code",
   "execution_count": 106,
   "metadata": {},
   "outputs": [],
   "source": [
    "data['time2']= pd.to_datetime(data['time']) \n",
    "\n",
    "# data.time2\n"
   ]
  },
  {
   "cell_type": "code",
   "execution_count": 107,
   "metadata": {},
   "outputs": [],
   "source": [
    "data[\"time3\"] = data[\"time2\"].apply(lambda x: \"%s-%s-%s\" % (x.year, x.month, x.day))\n",
    "data['time3']= pd.to_datetime(data['time3']) \n"
   ]
  },
  {
   "cell_type": "code",
   "execution_count": 108,
   "metadata": {},
   "outputs": [],
   "source": [
    "# data[\"time3\"]"
   ]
  },
  {
   "cell_type": "code",
   "execution_count": 109,
   "metadata": {},
   "outputs": [
    {
     "data": {
      "text/plain": [
       "time3\n",
       "2016-12-20       3\n",
       "2016-12-21     142\n",
       "2016-12-22      55\n",
       "2016-12-23      20\n",
       "2016-12-24      15\n",
       "2016-12-25      11\n",
       "2016-12-26       6\n",
       "2016-12-27      88\n",
       "2016-12-28     187\n",
       "2016-12-29      67\n",
       "2016-12-30      32\n",
       "2016-12-31       8\n",
       "2017-01-01      19\n",
       "2017-01-02      35\n",
       "2017-01-03     159\n",
       "2017-01-04     216\n",
       "2017-01-05     177\n",
       "2017-01-06     171\n",
       "2017-01-07     105\n",
       "2017-01-08     109\n",
       "2017-01-09     242\n",
       "2017-01-10     269\n",
       "2017-01-11     129\n",
       "2017-01-12     204\n",
       "2017-01-13     159\n",
       "2017-01-14     155\n",
       "2017-01-15     143\n",
       "2017-01-16    3244\n",
       "2017-01-17    2379\n",
       "2017-01-18    2305\n",
       "              ... \n",
       "2017-03-06     410\n",
       "2017-03-07     629\n",
       "2017-03-08      63\n",
       "2017-03-09      85\n",
       "2017-03-10     187\n",
       "2017-03-11      39\n",
       "2017-03-12      72\n",
       "2017-03-13     413\n",
       "2017-03-14    1106\n",
       "2017-03-15     749\n",
       "2017-03-16     172\n",
       "2017-03-17     360\n",
       "2017-03-18      19\n",
       "2017-03-19       9\n",
       "2017-03-20     121\n",
       "2017-03-21     399\n",
       "2017-03-22     264\n",
       "2017-03-23     703\n",
       "2017-03-24     129\n",
       "2017-03-25     294\n",
       "2017-03-26      71\n",
       "2017-03-27      81\n",
       "2017-03-28     443\n",
       "2017-03-29      39\n",
       "2017-03-30      75\n",
       "2017-03-31      53\n",
       "2017-04-01       4\n",
       "2017-04-02       6\n",
       "2017-04-03      34\n",
       "2017-04-04       5\n",
       "Length: 106, dtype: int64"
      ]
     },
     "execution_count": 109,
     "metadata": {},
     "output_type": "execute_result"
    }
   ],
   "source": [
    "data.groupby(\"time3\").size()"
   ]
  },
  {
   "cell_type": "code",
   "execution_count": 110,
   "metadata": {},
   "outputs": [
    {
     "data": {
      "text/plain": [
       "<matplotlib.axes._subplots.AxesSubplot at 0x7f45e1b98550>"
      ]
     },
     "execution_count": 110,
     "metadata": {},
     "output_type": "execute_result"
    },
    {
     "data": {
      "image/png": "[encoded data removed]",
      "text/plain": [
       "<matplotlib.figure.Figure at 0x7f45e1b3e290>"
      ]
     },
     "metadata": {
      "needs_background": "light"
     },
     "output_type": "display_data"
    }
   ],
   "source": [
    "## ejemplo data1= data\n",
    "\n",
    "data1 = data\n",
    "# data1.set_index('Date', inplace=True)\n",
    "# data['adj_close'].plot()\n",
    "\n",
    "data1.groupby('time3').size().plot()\n"
   ]
  },
  {
   "cell_type": "code",
   "execution_count": null,
   "metadata": {},
   "outputs": [],
   "source": []
  }
 ],
 "metadata": {
  "kernelspec": {
   "display_name": "Python 2",
   "language": "python",
   "name": "python2"
  },
  "language_info": {
   "codemirror_mode": {
    "name": "ipython",
    "version": 2
   },
   "file_extension": ".py",
   "mimetype": "text/x-python",
   "name": "python",
   "nbconvert_exporter": "python",
   "pygments_lexer": "ipython2",
   "version": "2.7.12"
  }
 },
 "nbformat": 4,
 "nbformat_minor": 2
}
