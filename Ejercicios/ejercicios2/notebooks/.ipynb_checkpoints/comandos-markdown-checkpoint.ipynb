{
 "cells": [
  {
   "cell_type": "markdown",
   "metadata": {},
   "source": [
    "## Saludos Bienvenidos al Taller"
   ]
  },
  {
   "cell_type": "markdown",
   "metadata": {},
   "source": [
    "### Proceso de instalación de ambiente de trabajo\n",
    "\n",
    "    1.- Instalar y trabajar con virtualenv\n",
    "    2.- Crear un entorno virtual\n",
    "\n",
    "__virtualenv /ruta/del/entorno__\n",
    "\n",
    "    3.- Activar el entorno\n",
    "    \n",
    "```python\n",
    "source /ruta/del/entorno/bin/activate\n",
    "```\n",
    "    4.- Instalar las librerías necesarias con el comando: pip\n",
    "\n",
    "#### Importante mencionar: \n",
    "        -easy_install paquete\n",
    "        -pip install paquete\n",
    "        -descomprimir tar o zip, luego, python setup.py install_\n",
    "\n",
    "Se procede a instalar los siguientes paquetes:\n",
    "\n",
    "```python\n",
    "pip install ipython\n",
    "pip install jupyter\n",
    "pip install pandas\n",
    "```\n",
    "\n",
    "    5.- Empezar a probar las herramientas:\n",
    "\n",
    "Gnu/Linux o Max-OS se abre un terminal\n",
    "Windows se abre el cmd\n",
    "\n",
    "---------------------------------------------------\n",
    "    6.- Uso de jupyter\n",
    "\n",
    "    -Digitar:\n",
    "```python\n",
    "jupyter notebook\n",
    "```\n",
    "    "
   ]
  },
  {
   "cell_type": "markdown",
   "metadata": {},
   "source": [
    "# IMPORTANTE\n",
    "### Comandos para exportar\n",
    "\n",
    "- jupyter nbconvert comandos-python.ipynb # por defecto exporta a html\n",
    "- sudo apt-get install texlive-xetex # para hacer uso del proceso de exportación a latex\n",
    "\t- https://es.wikipedia.org/wiki/TeX_Live\n"
   ]
  },
  {
   "cell_type": "code",
   "execution_count": null,
   "metadata": {},
   "outputs": [],
   "source": []
  }
 ],
 "metadata": {
  "kernelspec": {
   "display_name": "Python 2",
   "language": "python",
   "name": "python2"
  },
  "language_info": {
   "codemirror_mode": {
    "name": "ipython",
    "version": 2
   },
   "file_extension": ".py",
   "mimetype": "text/x-python",
   "name": "python",
   "nbconvert_exporter": "python",
   "pygments_lexer": "ipython2",
   "version": "2.7.12"
  }
 },
 "nbformat": 4,
 "nbformat_minor": 2
}
