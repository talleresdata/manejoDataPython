{
 "cells": [
  {
   "cell_type": "code",
   "execution_count": 1,
   "metadata": {},
   "outputs": [
    {
     "name": "stdout",
     "output_type": "stream",
     "text": [
      "Hola mundo\n"
     ]
    }
   ],
   "source": [
    "print(\"Hola mundo\")"
   ]
  },
  {
   "cell_type": "code",
   "execution_count": 3,
   "metadata": {},
   "outputs": [
    {
     "name": "stdout",
     "output_type": "stream",
     "text": [
      "Probando 10\n",
      "Probando 11\n",
      "Probando 12\n",
      "Probando 13\n",
      "Probando 14\n",
      "Probando 15\n",
      "Probando 16\n",
      "Probando 17\n",
      "Probando 18\n",
      "Probando 19\n"
     ]
    }
   ],
   "source": [
    "for l in range(10, 20):\n",
    "    print \"Probando %d\" % l"
   ]
  },
  {
   "cell_type": "code",
   "execution_count": 13,
   "metadata": {},
   "outputs": [],
   "source": [
    "class Persona:\n",
    "    def __init__(self):\n",
    "        nombres = \"\"\n",
    "        apellidos = \"\""
   ]
  },
  {
   "cell_type": "code",
   "execution_count": 14,
   "metadata": {},
   "outputs": [],
   "source": [
    "persona = Persona()\n",
    "persona.nombres= \"René\"\n",
    "persona.apellidos = \"Elizalde\"\n"
   ]
  },
  {
   "cell_type": "code",
   "execution_count": 15,
   "metadata": {},
   "outputs": [
    {
     "name": "stdout",
     "output_type": "stream",
     "text": [
      "<__main__.Persona instance at 0x7f58382412d8>\n"
     ]
    }
   ],
   "source": [
    "print(persona)"
   ]
  },
  {
   "cell_type": "code",
   "execution_count": 16,
   "metadata": {},
   "outputs": [],
   "source": [
    "class Persona:\n",
    "    def __init__(self):\n",
    "        nombres = \"\"\n",
    "        apellidos = \"\"\n",
    "    \n",
    "    def __str__(self):\n",
    "        return \"%s - %s\" % (self.nombres, self.apellidos)"
   ]
  },
  {
   "cell_type": "code",
   "execution_count": 17,
   "metadata": {},
   "outputs": [
    {
     "name": "stdout",
     "output_type": "stream",
     "text": [
      "René - Elizalde\n"
     ]
    }
   ],
   "source": [
    "persona = Persona()\n",
    "persona.nombres= \"René\"\n",
    "persona.apellidos = \"Elizalde\"\n",
    "print(persona)"
   ]
  },
  {
   "cell_type": "markdown",
   "metadata": {},
   "source": [
    "# IMPORTANTE\n",
    "### Comandos para exportar\n",
    "\n",
    "- jupyter nbconvert comandos-python.ipynb # por defecto exporta a html\n",
    "- sudo apt-get install texlive-xetex # para hacer uso del proceso de exportación a latex\n",
    "\t- https://es.wikipedia.org/wiki/TeX_Live\n",
    "- jupyter nbconvert comandos-python.ipynb --to pdf"
   ]
  },
  {
   "cell_type": "code",
   "execution_count": null,
   "metadata": {},
   "outputs": [],
   "source": []
  }
 ],
 "metadata": {
  "kernelspec": {
   "display_name": "Python 2",
   "language": "python",
   "name": "python2"
  },
  "language_info": {
   "codemirror_mode": {
    "name": "ipython",
    "version": 2
   },
   "file_extension": ".py",
   "mimetype": "text/x-python",
   "name": "python",
   "nbconvert_exporter": "python",
   "pygments_lexer": "ipython2",
   "version": "2.7.12"
  }
 },
 "nbformat": 4,
 "nbformat_minor": 2
}
