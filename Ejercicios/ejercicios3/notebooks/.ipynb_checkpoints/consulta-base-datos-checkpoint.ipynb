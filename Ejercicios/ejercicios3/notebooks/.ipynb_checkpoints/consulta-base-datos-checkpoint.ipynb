{
 "cells": [
  {
   "cell_type": "markdown",
   "metadata": {},
   "source": [
    "# Generación de base de datos \n",
    "### Pandas to Sqlite"
   ]
  },
  {
   "cell_type": "code",
   "execution_count": 1,
   "metadata": {},
   "outputs": [],
   "source": [
    "import pandas as pd\n",
    "import matplotlib.pyplot as plt\n",
    "%matplotlib inline\n",
    "\n",
    "import pandas.io.sql as pd_sql\n",
    "import sqlite3 as sql"
   ]
  },
  {
   "cell_type": "code",
   "execution_count": 5,
   "metadata": {},
   "outputs": [],
   "source": [
    "data = pd.read_csv(\"data/data-educacion-ecuador.csv\", low_memory=False)\n"
   ]
  },
  {
   "cell_type": "code",
   "execution_count": 6,
   "metadata": {},
   "outputs": [],
   "source": [
    "import sqlite3\n",
    "connection = sqlite3.connect(\"instituciones.db\")\n",
    "connection.text_factory = str\n",
    "data.to_sql(name='educativas', con=connection, if_exists = 'append', index=False)\n"
   ]
  },
  {
   "cell_type": "code",
   "execution_count": 7,
   "metadata": {},
   "outputs": [
    {
     "name": "stdout",
     "output_type": "stream",
     "text": [
      "comandos-markdown.html             \u001b[0m\u001b[01;32mEjemplo - Pandas DataFrame.ipynb\u001b[0m*\r\n",
      "comandos-markdown.ipynb            \u001b[01;32mEjemplo-Pandas-Matplotlib.ipynb\u001b[0m*\r\n",
      "comandos-python.html               \u001b[01;32mEjemplo - Pandas Series.ipynb\u001b[0m*\r\n",
      "comandos-python.ipynb              ejemplos-ipywidgets-2.ipynb\r\n",
      "comandos-python.pdf                ejemplos-ipywidgets.ipynb\r\n",
      "\u001b[01;34mdata\u001b[0m/                              generacion-base-datos.ipynb\r\n",
      "\u001b[01;32mEjemplo2-Pandas-Matplotlib.ipynb\u001b[0m*  instituciones.db\r\n",
      "Ejemplo-ipyleaflet.ipynb           \u001b[01;34mnotebook-py3\u001b[0m/\r\n",
      "\u001b[01;32mEjemplo-Matplotlib.ipynb\u001b[0m*\r\n"
     ]
    }
   ],
   "source": [
    "ls"
   ]
  },
  {
   "cell_type": "code",
   "execution_count": null,
   "metadata": {},
   "outputs": [],
   "source": []
  }
 ],
 "metadata": {
  "kernelspec": {
   "display_name": "Python 2",
   "language": "python",
   "name": "python2"
  },
  "language_info": {
   "codemirror_mode": {
    "name": "ipython",
    "version": 2
   },
   "file_extension": ".py",
   "mimetype": "text/x-python",
   "name": "python",
   "nbconvert_exporter": "python",
   "pygments_lexer": "ipython2",
   "version": "2.7.12"
  }
 },
 "nbformat": 4,
 "nbformat_minor": 2
}
