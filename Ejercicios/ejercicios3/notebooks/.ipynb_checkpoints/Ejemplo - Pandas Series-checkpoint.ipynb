{
 "cells": [
  {
   "cell_type": "markdown",
   "metadata": {},
   "source": [
    "# Uso de Series en Pandas\n",
    "#### https://pandas.pydata.org/pandas-docs/stable/generated/pandas.Series.html"
   ]
  },
  {
   "cell_type": "code",
   "execution_count": 2,
   "metadata": {},
   "outputs": [],
   "source": [
    "import pandas as pd\n",
    "import sys\n",
    "import datetime as dt\n",
    "import numpy as np\n",
    "import matplotlib.pyplot as plt\n",
    "import matplotlib\n",
    "from pandas.tools.plotting import radviz\n",
    "\n",
    "%matplotlib inline\n"
   ]
  },
  {
   "cell_type": "code",
   "execution_count": 3,
   "metadata": {},
   "outputs": [
    {
     "name": "stdout",
     "output_type": "stream",
     "text": [
      "0    1\n",
      "1    2\n",
      "2    3\n",
      "3    4\n",
      "dtype: int64\n"
     ]
    }
   ],
   "source": [
    "mi_serie = pd.Series([1,2,3,4])\n",
    "print mi_serie"
   ]
  },
  {
   "cell_type": "code",
   "execution_count": 4,
   "metadata": {},
   "outputs": [
    {
     "name": "stdout",
     "output_type": "stream",
     "text": [
      "uno       1\n",
      "dos       2\n",
      "tres      3\n",
      "cuatro    4\n",
      "dtype: int64\n",
      "10\n"
     ]
    }
   ],
   "source": [
    "mi_serie = pd.Series([1,2,3,4], index = ['uno', 'dos', 'tres', 'cuatro'])\n",
    "print mi_serie\n",
    "print mi_serie.sum()"
   ]
  },
  {
   "cell_type": "code",
   "execution_count": 5,
   "metadata": {},
   "outputs": [
    {
     "name": "stdout",
     "output_type": "stream",
     "text": [
      "0      0\n",
      "1      1\n",
      "2      8\n",
      "3     27\n",
      "4     64\n",
      "5    125\n",
      "6    216\n",
      "7    343\n",
      "8    512\n",
      "9    729\n",
      "dtype: int64\n",
      "---------------------------------------\n",
      "0       0\n",
      "1       1\n",
      "2      16\n",
      "3      81\n",
      "4     256\n",
      "5     625\n",
      "6    1296\n",
      "7    2401\n",
      "8    4096\n",
      "9    6561\n",
      "dtype: int64\n"
     ]
    }
   ],
   "source": [
    "datos = [x**3 for x in range(0,10)]\n",
    "mi_serie = pd.Series(datos)\n",
    "print mi_serie\n",
    "print \"---------------------------------------\"\n",
    "datos = [x**4 for x in range(0,10)]\n",
    "mi_serie = pd.Series(datos)\n",
    "print mi_serie"
   ]
  },
  {
   "cell_type": "code",
   "execution_count": null,
   "metadata": {
    "collapsed": true
   },
   "outputs": [],
   "source": []
  }
 ],
 "metadata": {
  "kernelspec": {
   "display_name": "Python 2",
   "language": "python",
   "name": "python2"
  },
  "language_info": {
   "codemirror_mode": {
    "name": "ipython",
    "version": 2
   },
   "file_extension": ".py",
   "mimetype": "text/x-python",
   "name": "python",
   "nbconvert_exporter": "python",
   "pygments_lexer": "ipython2",
   "version": "2.7.12"
  }
 },
 "nbformat": 4,
 "nbformat_minor": 1
}
